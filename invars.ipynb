{
 "cells": [
  {
   "cell_type": "code",
   "execution_count": 1,
   "id": "246d5033",
   "metadata": {},
   "outputs": [],
   "source": [
    "import numpy as np\n",
    "import plotly.graph_objects as go\n",
    "from ipywidgets import widgets\n",
    "from IPython.display import display"
   ]
  },
  {
   "cell_type": "markdown",
   "id": "41be787a",
   "metadata": {},
   "source": [
    "First, we create the coordinate arrays for the 3D plot. The plot will be shown in the space of Eigenvalues $\\sigma_1$, $\\sigma_2$, $\\sigma_3$."
   ]
  },
  {
   "cell_type": "code",
   "execution_count": 2,
   "id": "3cd7a39a",
   "metadata": {},
   "outputs": [],
   "source": [
    "a = 1 # show space -a <= sigma_i <= a\n",
    "n = 31 # number of data points along each axis, i.e. resolution of the plot\n",
    "\n",
    "# vectors along each axis with shape (n,)\n",
    "s1 = s2 = s3 = np.linspace(-a,a,n)\n",
    "\n",
    "# 3d grid of values for each coordinate with shape (n,n,n)\n",
    "S1,S2,S3 = np.meshgrid(s1,s2,s3)\n",
    "\n",
    "# reformat the coordinates as vectors\n",
    "S1 = S1.flatten()\n",
    "S2 = S2.flatten()\n",
    "S3 = S3.flatten()\n"
   ]
  },
  {
   "cell_type": "markdown",
   "id": "35a13b49",
   "metadata": {},
   "source": [
    "Next, we define the functions we want to visualize depending on `S1`, `S2`, `S3`"
   ]
  },
  {
   "cell_type": "code",
   "execution_count": 3,
   "id": "3a66533e",
   "metadata": {},
   "outputs": [],
   "source": [
    "R = np.sqrt(S1**2+S2**2+S3**2)\n",
    "\n",
    "J1 = S1 + S2 + S3\n",
    "J2 = S1*S2 + S2*S3 + S1*S3\n",
    "J3 = S1*S2*S3\n",
    "\n",
    "def j2dev(s1, s2, s3):\n",
    "    A = np.diag([s1, s2, s3])\n",
    "    Adev = A - 1/3*np.trace(A)*np.eye(3)\n",
    "    \n",
    "    return np.sum(Adev*Adev)\n",
    "\n",
    "Mises = np.array([j2dev(s1,s2,s3) for s1,s2,s3 in zip(S1,S2,S3)])\n",
    "\n",
    "data = {'J1': J1, 'J2': J2, 'J3': J3, 'Mises': Mises}\n",
    "\n",
    "colors = {'J1': 'rgb(21,104,156)',\n",
    "          'J2': 'rgb(237,179,20)',\n",
    "          'J3': 'rgb(153,148,194)',\n",
    "          'Mises': 'rgb(35,100,52)'}"
   ]
  },
  {
   "cell_type": "markdown",
   "id": "1da05b82",
   "metadata": {},
   "source": [
    "If you have specified data as a dictionary, the nxt cell should produce nice plots without changes"
   ]
  },
  {
   "cell_type": "code",
   "execution_count": 27,
   "id": "1d02b781",
   "metadata": {},
   "outputs": [
    {
     "data": {
      "application/vnd.jupyter.widget-view+json": {
       "model_id": "310425d21fbf40e282f1660f9801a402",
       "version_major": 2,
       "version_minor": 0
      },
      "text/plain": [
       "VBox(children=(HBox(children=(HTML(value='<svg height=\"20\" width=\"20\">\\n <line x1=\"0\" y1=\"10\" x2=\"20\" y2=\"10\" …"
      ]
     },
     "metadata": {},
     "output_type": "display_data"
    }
   ],
   "source": [
    "min_val, max_val = -1, 1\n",
    "initial_val = 0.5\n",
    "\n",
    "\n",
    "# dictionaries for checkboxes, sliders, plots and color patches\n",
    "checkboxes = {}\n",
    "sliders = {}\n",
    "traces = {}\n",
    "color_patches = {}\n",
    "\n",
    "# the line for the volumetric stress\n",
    "checkboxes['line_vol'] = widgets.Checkbox(description='Volumetrischer Zustand', value=True)\n",
    "\n",
    "traces['line_vol'] = go.Scatter3d(x=s1,\n",
    "                                  y=s2,\n",
    "                                  z=s3,\n",
    "                                  mode='lines',\n",
    "                                  line=dict(color=\"#000000\", width=3))\n",
    "\n",
    "color_patches['line_vol'] = widgets.HTML(\"\"\"<svg height=\"20\" width=\"20\">\n",
    " <line x1=\"0\" y1=\"10\" x2=\"20\" y2=\"10\" style=\"stroke:rgb(0,0,0);stroke-width:1.5\" />\n",
    "</svg>\"\"\")\n",
    "\n",
    "for key, vals in data.items():\n",
    "    color = colors.get(key, 'rgb(150,150,150)')\n",
    "    \n",
    "    color_patches[key] = widgets.HTML(value=f\"\"\"<svg width=\"20\" height=\"20\">\n",
    "<rect width=\"20\" height=\"20\" style=\"fill:{color};stroke-width:0;stroke:#000000\" />\n",
    "</svg>\"\"\")\n",
    "    \n",
    "    checkboxes[key] = widgets.Checkbox(description=key, value=True)\n",
    "    \n",
    "    sliders[key] = widgets.FloatSlider(value=initial_val,\n",
    "                                       min=min_val,\n",
    "                                       max=max_val,\n",
    "                                       step=0.1,\n",
    "                                       description='Wert:',\n",
    "                                       disabled=False,\n",
    "                                       continuous_update=True,\n",
    "                                       orientation='horizontal',\n",
    "                                       readout=True,\n",
    "                                       readout_format='.1f',\n",
    "                                       )\n",
    "    \n",
    "    traces[key] = go.Isosurface(x=S1,\n",
    "                                y=S2,\n",
    "                                z=S3,\n",
    "                                value=vals,\n",
    "                                isomin=initial_val,\n",
    "                                isomax=initial_val,\n",
    "                                opacity=1,\n",
    "                                surface=dict(show=True,count=1, fill=1),\n",
    "                                caps=go.isosurface.Caps(z=dict(show=False),\n",
    "                                                        x=dict(show=False),\n",
    "                                                        y=dict(show=False),\n",
    "                                ),\n",
    "                                colorscale=[[0, color],[1, color]],\n",
    "                                showscale=False\n",
    "                                )\n",
    "    \n",
    "# inverse mapping for checkboxes\n",
    "checkboxes_inv = dict(zip(checkboxes.values(), checkboxes.keys()))\n",
    "sliders_inv = dict(zip(sliders.values(), sliders.keys()))\n",
    "\n",
    "# index of each trace\n",
    "trace_indices = {key: i for i, key in enumerate(traces.keys())}\n",
    "\n",
    "fig = go.FigureWidget(data=list(traces.values()))\n",
    "\n",
    "fig.update_layout(scene = dict(xaxis_title='sigma1',\n",
    "                               yaxis_title='sigma2',\n",
    "                               zaxis_title='sigma3',\n",
    "                               xaxis_tickfont_size=14,\n",
    "                               yaxis_tickfont_size=14,\n",
    "                               zaxis_tickfont_size=14,\n",
    "                               xaxis_title_font=dict(size=20),\n",
    "                               yaxis_title_font=dict(size=20),\n",
    "                               zaxis_title_font=dict(size=20),\n",
    "                              ),\n",
    "                  width=800, height=800)\n",
    "\n",
    "\n",
    "\n",
    "def update_cb(change):\n",
    "    key = checkboxes_inv[change.owner]\n",
    "    trace = fig.data[trace_indices[key]]\n",
    "    trace.visible = change['new']\n",
    "    \n",
    "def update_slider(change): \n",
    "    with fig.batch_update():\n",
    "        key = sliders_inv[change.owner]\n",
    "        trace = fig.data[trace_indices[key]]\n",
    "        \n",
    "        trace.isomin = change['new']\n",
    "        trace.isomax = change['new']\n",
    "\n",
    "for cb in checkboxes.values():\n",
    "    cb.observe(update_cb, names=\"value\")\n",
    "    \n",
    "for slider in sliders.values():\n",
    "    slider.observe(update_slider, names=\"value\")\n",
    "    \n",
    "\n",
    "rows = [widgets.HBox([color_patches['line_vol'], checkboxes['line_vol']])]\n",
    "for key in data.keys():\n",
    "    rows.append(widgets.HBox([color_patches[key], checkboxes[key], sliders[key]]))\n",
    "\n",
    "rows.append(fig)\n",
    "    \n",
    "display(widgets.VBox(rows), renderer=\"browser\")\n",
    "\n"
   ]
  },
  {
   "cell_type": "code",
   "execution_count": null,
   "id": "b3ebfde4",
   "metadata": {},
   "outputs": [],
   "source": []
  }
 ],
 "metadata": {
  "@webio": {
   "lastCommId": null,
   "lastKernelId": null
  },
  "kernelspec": {
   "display_name": "Python 3 (ipykernel)",
   "language": "python",
   "name": "python3"
  },
  "language_info": {
   "codemirror_mode": {
    "name": "ipython",
    "version": 3
   },
   "file_extension": ".py",
   "mimetype": "text/x-python",
   "name": "python",
   "nbconvert_exporter": "python",
   "pygments_lexer": "ipython3",
   "version": "3.9.9"
  }
 },
 "nbformat": 4,
 "nbformat_minor": 5
}
